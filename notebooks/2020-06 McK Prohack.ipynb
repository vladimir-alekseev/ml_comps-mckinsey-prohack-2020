{
 "cells": [
  {
   "cell_type": "code",
   "execution_count": 1,
   "metadata": {},
   "outputs": [],
   "source": [
    "import numpy as np\n",
    "import pandas as pd\n",
    "import matplotlib.pyplot as plt\n",
    "%matplotlib inline\n",
    "\n",
    "import datetime"
   ]
  },
  {
   "cell_type": "code",
   "execution_count": 2,
   "metadata": {},
   "outputs": [],
   "source": [
    "pd.set_option('max_rows', 40)\n",
    "pd.set_option('precision', 2)\n",
    "pd.set_option('display.float_format', lambda number: '%.2f' % number)\n",
    "from sklearn import set_config\n",
    "#set_config(display='diagram') # unavailable for scikit-learn < 0.23\n",
    "\n",
    "RANDOM_STATE = 42"
   ]
  },
  {
   "cell_type": "markdown",
   "metadata": {},
   "source": [
    "# Load data"
   ]
  },
  {
   "cell_type": "code",
   "execution_count": 3,
   "metadata": {},
   "outputs": [],
   "source": [
    "raw_data_train = pd.read_csv('../data/raw/train.csv')\n",
    "raw_data_test = pd.read_csv('../data/raw/test.csv')"
   ]
  },
  {
   "cell_type": "code",
   "execution_count": 4,
   "metadata": {},
   "outputs": [],
   "source": [
    "target_train = raw_data_train['y']\n",
    "raw_data_train.drop('y', axis=1, inplace=True)"
   ]
  },
  {
   "cell_type": "code",
   "execution_count": 5,
   "metadata": {},
   "outputs": [],
   "source": [
    "feature_groups = [\n",
    "    [0, 1],\n",
    "    [44, 43, 46, 62, 45, 13, 77, 61, 58, 4, 55, 56, 5, 75],\n",
    "    [28, 26, 38, 37, 30, 31, 33, 34, 27, 29, 32, 36],\n",
    "    [14, 23, 19, 20, 15, 24, 18],\n",
    "    [2, 3, 17, 16, 39, 40, 21, 22, 25, 53, 69, 11, 12, 41, 42, 66, 76],\n",
    "    [8, 70, 71, 10, 73, 74, 9, 6, 51, 52, 7, 49, 50, 63, 59, 60, 65],\n",
    "    [57, 67, 68],\n",
    "    [35, 48, 54],\n",
    "    [72, 78, 47],\n",
    "    [64],\n",
    "]"
   ]
  },
  {
   "cell_type": "markdown",
   "metadata": {},
   "source": [
    "**Explore feature groups**"
   ]
  },
  {
   "cell_type": "code",
   "execution_count": 6,
   "metadata": {},
   "outputs": [
    {
     "data": {
      "text/html": [
       "<div>\n",
       "<style scoped>\n",
       "    .dataframe tbody tr th:only-of-type {\n",
       "        vertical-align: middle;\n",
       "    }\n",
       "\n",
       "    .dataframe tbody tr th {\n",
       "        vertical-align: top;\n",
       "    }\n",
       "\n",
       "    .dataframe thead th {\n",
       "        text-align: right;\n",
       "    }\n",
       "</style>\n",
       "<table border=\"1\" class=\"dataframe\">\n",
       "  <thead>\n",
       "    <tr style=\"text-align: right;\">\n",
       "      <th></th>\n",
       "      <th>count</th>\n",
       "      <th>mean</th>\n",
       "      <th>std</th>\n",
       "      <th>min</th>\n",
       "      <th>25%</th>\n",
       "      <th>50%</th>\n",
       "      <th>75%</th>\n",
       "      <th>max</th>\n",
       "    </tr>\n",
       "  </thead>\n",
       "  <tbody>\n",
       "    <tr>\n",
       "      <th>Gross galactic product (GGP), total</th>\n",
       "      <td>1202.00</td>\n",
       "      <td>7749.98</td>\n",
       "      <td>7167.78</td>\n",
       "      <td>-933.22</td>\n",
       "      <td>5479.46</td>\n",
       "      <td>7130.47</td>\n",
       "      <td>8786.80</td>\n",
       "      <td>112391.32</td>\n",
       "    </tr>\n",
       "    <tr>\n",
       "      <th>Gross galactic product (GGP) per capita</th>\n",
       "      <td>1202.00</td>\n",
       "      <td>33338.26</td>\n",
       "      <td>18946.70</td>\n",
       "      <td>4007.14</td>\n",
       "      <td>21175.03</td>\n",
       "      <td>27952.62</td>\n",
       "      <td>40374.97</td>\n",
       "      <td>134636.65</td>\n",
       "    </tr>\n",
       "    <tr>\n",
       "      <th>Exports and imports (% of GGP)</th>\n",
       "      <td>1144.00</td>\n",
       "      <td>133.44</td>\n",
       "      <td>53.01</td>\n",
       "      <td>18.99</td>\n",
       "      <td>101.38</td>\n",
       "      <td>125.73</td>\n",
       "      <td>154.89</td>\n",
       "      <td>477.06</td>\n",
       "    </tr>\n",
       "    <tr>\n",
       "      <th>Remittances, inflows (% of GGP)</th>\n",
       "      <td>1028.00</td>\n",
       "      <td>11.93</td>\n",
       "      <td>9.02</td>\n",
       "      <td>-0.08</td>\n",
       "      <td>7.42</td>\n",
       "      <td>10.04</td>\n",
       "      <td>13.23</td>\n",
       "      <td>172.73</td>\n",
       "    </tr>\n",
       "    <tr>\n",
       "      <th>Outer Galaxies direct investment, net inflows (% of GGP)</th>\n",
       "      <td>1169.00</td>\n",
       "      <td>18.34</td>\n",
       "      <td>15.38</td>\n",
       "      <td>-5.27</td>\n",
       "      <td>13.02</td>\n",
       "      <td>16.75</td>\n",
       "      <td>20.93</td>\n",
       "      <td>362.55</td>\n",
       "    </tr>\n",
       "    <tr>\n",
       "      <th>Gross capital formation (% of GGP)</th>\n",
       "      <td>1502.00</td>\n",
       "      <td>31.86</td>\n",
       "      <td>8.48</td>\n",
       "      <td>2.49</td>\n",
       "      <td>27.18</td>\n",
       "      <td>31.22</td>\n",
       "      <td>36.03</td>\n",
       "      <td>72.31</td>\n",
       "    </tr>\n",
       "    <tr>\n",
       "      <th>Private galaxy capital flows (% of GGP)</th>\n",
       "      <td>874.00</td>\n",
       "      <td>22.26</td>\n",
       "      <td>34.34</td>\n",
       "      <td>-735.19</td>\n",
       "      <td>17.23</td>\n",
       "      <td>24.47</td>\n",
       "      <td>31.75</td>\n",
       "      <td>95.94</td>\n",
       "    </tr>\n",
       "    <tr>\n",
       "      <th>Gross fixed capital formation (% of GGP)</th>\n",
       "      <td>1074.00</td>\n",
       "      <td>29.94</td>\n",
       "      <td>7.64</td>\n",
       "      <td>6.13</td>\n",
       "      <td>25.47</td>\n",
       "      <td>29.42</td>\n",
       "      <td>33.55</td>\n",
       "      <td>75.08</td>\n",
       "    </tr>\n",
       "    <tr>\n",
       "      <th>Domestic credit provided by financial sector (% of GGP)</th>\n",
       "      <td>1079.00</td>\n",
       "      <td>118.69</td>\n",
       "      <td>61.43</td>\n",
       "      <td>-38.30</td>\n",
       "      <td>78.54</td>\n",
       "      <td>104.42</td>\n",
       "      <td>145.76</td>\n",
       "      <td>555.80</td>\n",
       "    </tr>\n",
       "    <tr>\n",
       "      <th>Gross income per capita</th>\n",
       "      <td>3837.00</td>\n",
       "      <td>31633.24</td>\n",
       "      <td>18736.38</td>\n",
       "      <td>-126.91</td>\n",
       "      <td>20169.12</td>\n",
       "      <td>26600.77</td>\n",
       "      <td>36898.63</td>\n",
       "      <td>151072.68</td>\n",
       "    </tr>\n",
       "    <tr>\n",
       "      <th>Estimated gross galactic income per capita, male</th>\n",
       "      <td>1055.00</td>\n",
       "      <td>42115.32</td>\n",
       "      <td>24076.41</td>\n",
       "      <td>4247.34</td>\n",
       "      <td>26665.47</td>\n",
       "      <td>35510.06</td>\n",
       "      <td>50069.35</td>\n",
       "      <td>187663.57</td>\n",
       "    </tr>\n",
       "    <tr>\n",
       "      <th>Estimated gross galactic income per capita, female</th>\n",
       "      <td>1055.00</td>\n",
       "      <td>23037.55</td>\n",
       "      <td>13075.77</td>\n",
       "      <td>-947.54</td>\n",
       "      <td>14589.01</td>\n",
       "      <td>19431.72</td>\n",
       "      <td>27312.73</td>\n",
       "      <td>83638.78</td>\n",
       "    </tr>\n",
       "    <tr>\n",
       "      <th>Income Index</th>\n",
       "      <td>3837.00</td>\n",
       "      <td>0.83</td>\n",
       "      <td>0.19</td>\n",
       "      <td>0.29</td>\n",
       "      <td>0.68</td>\n",
       "      <td>0.83</td>\n",
       "      <td>0.97</td>\n",
       "      <td>1.36</td>\n",
       "    </tr>\n",
       "    <tr>\n",
       "      <th>Adjusted net savings</th>\n",
       "      <td>912.00</td>\n",
       "      <td>21.25</td>\n",
       "      <td>14.26</td>\n",
       "      <td>-76.74</td>\n",
       "      <td>15.00</td>\n",
       "      <td>22.18</td>\n",
       "      <td>29.13</td>\n",
       "      <td>61.90</td>\n",
       "    </tr>\n",
       "  </tbody>\n",
       "</table>\n",
       "</div>"
      ],
      "text/plain": [
       "                                                     count     mean      std  \\\n",
       "Gross galactic product (GGP), total                1202.00  7749.98  7167.78   \n",
       "Gross galactic product (GGP) per capita            1202.00 33338.26 18946.70   \n",
       "Exports and imports (% of GGP)                     1144.00   133.44    53.01   \n",
       "Remittances, inflows (% of GGP)                    1028.00    11.93     9.02   \n",
       "Outer Galaxies direct investment, net inflows (... 1169.00    18.34    15.38   \n",
       "Gross capital formation (% of GGP)                 1502.00    31.86     8.48   \n",
       "Private galaxy capital flows (% of GGP)             874.00    22.26    34.34   \n",
       "Gross fixed capital formation (% of GGP)           1074.00    29.94     7.64   \n",
       "Domestic credit provided by financial sector (%... 1079.00   118.69    61.43   \n",
       "Gross income per capita                            3837.00 31633.24 18736.38   \n",
       "Estimated gross galactic income per capita, male   1055.00 42115.32 24076.41   \n",
       "Estimated gross galactic income per capita, female 1055.00 23037.55 13075.77   \n",
       "Income Index                                       3837.00     0.83     0.19   \n",
       "Adjusted net savings                                912.00    21.25    14.26   \n",
       "\n",
       "                                                       min      25%      50%  \\\n",
       "Gross galactic product (GGP), total                -933.22  5479.46  7130.47   \n",
       "Gross galactic product (GGP) per capita            4007.14 21175.03 27952.62   \n",
       "Exports and imports (% of GGP)                       18.99   101.38   125.73   \n",
       "Remittances, inflows (% of GGP)                      -0.08     7.42    10.04   \n",
       "Outer Galaxies direct investment, net inflows (...   -5.27    13.02    16.75   \n",
       "Gross capital formation (% of GGP)                    2.49    27.18    31.22   \n",
       "Private galaxy capital flows (% of GGP)            -735.19    17.23    24.47   \n",
       "Gross fixed capital formation (% of GGP)              6.13    25.47    29.42   \n",
       "Domestic credit provided by financial sector (%...  -38.30    78.54   104.42   \n",
       "Gross income per capita                            -126.91 20169.12 26600.77   \n",
       "Estimated gross galactic income per capita, male   4247.34 26665.47 35510.06   \n",
       "Estimated gross galactic income per capita, female -947.54 14589.01 19431.72   \n",
       "Income Index                                          0.29     0.68     0.83   \n",
       "Adjusted net savings                                -76.74    15.00    22.18   \n",
       "\n",
       "                                                        75%       max  \n",
       "Gross galactic product (GGP), total                 8786.80 112391.32  \n",
       "Gross galactic product (GGP) per capita            40374.97 134636.65  \n",
       "Exports and imports (% of GGP)                       154.89    477.06  \n",
       "Remittances, inflows (% of GGP)                       13.23    172.73  \n",
       "Outer Galaxies direct investment, net inflows (...    20.93    362.55  \n",
       "Gross capital formation (% of GGP)                    36.03     72.31  \n",
       "Private galaxy capital flows (% of GGP)               31.75     95.94  \n",
       "Gross fixed capital formation (% of GGP)              33.55     75.08  \n",
       "Domestic credit provided by financial sector (%...   145.76    555.80  \n",
       "Gross income per capita                            36898.63 151072.68  \n",
       "Estimated gross galactic income per capita, male   50069.35 187663.57  \n",
       "Estimated gross galactic income per capita, female 27312.73  83638.78  \n",
       "Income Index                                           0.97      1.36  \n",
       "Adjusted net savings                                  29.13     61.90  "
      ]
     },
     "execution_count": 6,
     "metadata": {},
     "output_type": "execute_result"
    }
   ],
   "source": [
    "feature_group_index = 1\n",
    "raw_data_train.iloc[:, feature_groups[feature_group_index]].describe(include='all').T"
   ]
  },
  {
   "cell_type": "markdown",
   "metadata": {},
   "source": [
    "# Build features"
   ]
  },
  {
   "cell_type": "code",
   "execution_count": 7,
   "metadata": {},
   "outputs": [],
   "source": [
    "from sklearn.pipeline import Pipeline, FeatureUnion\n",
    "from sklearn.compose import ColumnTransformer"
   ]
  },
  {
   "cell_type": "code",
   "execution_count": 8,
   "metadata": {},
   "outputs": [],
   "source": [
    "from sklearn.preprocessing import StandardScaler, OrdinalEncoder, OneHotEncoder, FunctionTransformer\n",
    "from sklearn.impute import SimpleImputer\n",
    "\n",
    "from sklearn.feature_extraction.text import CountVectorizer"
   ]
  },
  {
   "cell_type": "code",
   "execution_count": 9,
   "metadata": {},
   "outputs": [],
   "source": [
    "from sklearn.experimental import enable_iterative_imputer\n",
    "from sklearn.impute import IterativeImputer"
   ]
  },
  {
   "cell_type": "code",
   "execution_count": 10,
   "metadata": {},
   "outputs": [],
   "source": [
    "initial_preprocessor = ColumnTransformer(\n",
    "    [\n",
    "        ('year', OrdinalEncoder(dtype='int'), ['galactic year']),\n",
    "        \n",
    "        ('galaxy', FeatureUnion(\n",
    "            [\n",
    "                ('onehot', OneHotEncoder(dtype='int')),\n",
    "                ('bagofwords', Pipeline(\n",
    "                    [\n",
    "                        ('unravel', FunctionTransformer(lambda df: df.iloc[:, 0])),\n",
    "                        ('vectorize', CountVectorizer(lowercase=True, binary=True, token_pattern=r'(?u)\\b\\S+\\b')),\n",
    "                    ])\n",
    "                ),\n",
    "            ],\n",
    "            n_jobs=-1\n",
    "        ), ['galaxy']),\n",
    "        \n",
    "    ],\n",
    "    remainder='passthrough',\n",
    "    n_jobs=-1,\n",
    "    verbose=True,\n",
    "    sparse_threshold=0\n",
    ")"
   ]
  },
  {
   "cell_type": "code",
   "execution_count": 11,
   "metadata": {},
   "outputs": [],
   "source": [
    "train_data_size = raw_data_train.shape[0]\n",
    "num_original_features = raw_data_train.shape[1] - len(initial_preprocessor.transformers)"
   ]
  },
  {
   "cell_type": "code",
   "execution_count": 12,
   "metadata": {},
   "outputs": [],
   "source": [
    "interim_features = initial_preprocessor.fit_transform(pd.concat([raw_data_train, raw_data_test], sort=False))\n",
    "\n",
    "interim_features_train = interim_features[:train_data_size]\n",
    "interim_features_test = interim_features[train_data_size:]"
   ]
  },
  {
   "cell_type": "code",
   "execution_count": 13,
   "metadata": {},
   "outputs": [],
   "source": [
    "preprocessor = ColumnTransformer(\n",
    "    [\n",
    "        ('general', Pipeline(\n",
    "            [\n",
    "                ('imputer', IterativeImputer(initial_strategy='mean', imputation_order='ascending', random_state=RANDOM_STATE)),\n",
    "                ('scaler', StandardScaler()),\n",
    "            ],\n",
    "\n",
    "            memory='../data/interim/',\n",
    "            verbose=True,\n",
    "        ), slice(-num_original_features, None))\n",
    "    ],\n",
    "    remainder='passthrough',\n",
    "    n_jobs=-1,\n",
    "    verbose=True\n",
    ")"
   ]
  },
  {
   "cell_type": "code",
   "execution_count": 14,
   "metadata": {},
   "outputs": [],
   "source": [
    "features_train = preprocessor.fit_transform(interim_features_train)\n",
    "features_test = preprocessor.fit_transform(interim_features_test)"
   ]
  },
  {
   "cell_type": "markdown",
   "metadata": {},
   "source": [
    "# Train models"
   ]
  },
  {
   "cell_type": "code",
   "execution_count": 15,
   "metadata": {},
   "outputs": [],
   "source": [
    "from sklearn.feature_selection import SelectKBest, f_regression, mutual_info_regression"
   ]
  },
  {
   "cell_type": "code",
   "execution_count": 16,
   "metadata": {},
   "outputs": [],
   "source": [
    "from sklearn.model_selection import GridSearchCV\n",
    "\n",
    "from sklearn.metrics import mean_squared_error, make_scorer\n",
    "\n",
    "scoring_func = make_scorer(mean_squared_error, greater_is_better=False, squared=False)"
   ]
  },
  {
   "cell_type": "markdown",
   "metadata": {},
   "source": [
    "## Universal model"
   ]
  },
  {
   "cell_type": "code",
   "execution_count": 17,
   "metadata": {},
   "outputs": [],
   "source": [
    "from sklearn.ensemble import GradientBoostingRegressor"
   ]
  },
  {
   "cell_type": "code",
   "execution_count": 18,
   "metadata": {},
   "outputs": [],
   "source": [
    "estimator = Pipeline(\n",
    "    [\n",
    "        ('preprocessor', preprocessor),\n",
    "        #('feature_selector', SelectKBest(mutual_info_regression)),\n",
    "        ('estimator', GradientBoostingRegressor(n_estimators=300, random_state=RANDOM_STATE)),\n",
    "    ],\n",
    "    verbose=True\n",
    ")"
   ]
  },
  {
   "cell_type": "code",
   "execution_count": 19,
   "metadata": {},
   "outputs": [],
   "source": [
    "grid_search = GridSearchCV(\n",
    "    estimator, \n",
    "    param_grid={\n",
    "        #'feature_selector__k': range(10, 490, 10),\n",
    "    }, \n",
    "    scoring=scoring_func,\n",
    "    cv=5,\n",
    "    n_jobs=-1, \n",
    "    verbose=6,\n",
    ")"
   ]
  },
  {
   "cell_type": "code",
   "execution_count": 20,
   "metadata": {},
   "outputs": [
    {
     "name": "stdout",
     "output_type": "stream",
     "text": [
      "Fitting 5 folds for each of 1 candidates, totalling 5 fits\n"
     ]
    },
    {
     "name": "stderr",
     "output_type": "stream",
     "text": [
      "[Parallel(n_jobs=-1)]: Using backend LokyBackend with 4 concurrent workers.\n",
      "[Parallel(n_jobs=-1)]: Done   2 out of   5 | elapsed:  1.6min remaining:  2.4min\n",
      "[Parallel(n_jobs=-1)]: Done   3 out of   5 | elapsed:  1.6min remaining:  1.1min\n",
      "[Parallel(n_jobs=-1)]: Done   5 out of   5 | elapsed:  2.3min remaining:    0.0s\n",
      "[Parallel(n_jobs=-1)]: Done   5 out of   5 | elapsed:  2.3min finished\n"
     ]
    },
    {
     "name": "stdout",
     "output_type": "stream",
     "text": [
      "[Pipeline] ...... (step 1 of 3) Processing preprocessor, total=   0.3s\n",
      "[Pipeline] .. (step 2 of 3) Processing feature_selector, total= 1.4min\n",
      "[Pipeline] ......... (step 3 of 3) Processing estimator, total=   2.7s\n"
     ]
    },
    {
     "data": {
      "text/plain": [
       "GridSearchCV(cv=5, error_score=nan,\n",
       "             estimator=Pipeline(memory=None,\n",
       "                                steps=[('preprocessor',\n",
       "                                        ColumnTransformer(n_jobs=-1,\n",
       "                                                          remainder='passthrough',\n",
       "                                                          sparse_threshold=0.3,\n",
       "                                                          transformer_weights=None,\n",
       "                                                          transformers=[('general',\n",
       "                                                                         Pipeline(memory='../data/interim/',\n",
       "                                                                                  steps=[('imputer',\n",
       "                                                                                          IterativeImputer(add_indicator=False,\n",
       "                                                                                                           estimator=None,\n",
       "                                                                                                           imputation_order='ascending',\n",
       "                                                                                                           initi...\n",
       "                                                                  n_estimators=300,\n",
       "                                                                  n_iter_no_change=None,\n",
       "                                                                  presort='deprecated',\n",
       "                                                                  random_state=42,\n",
       "                                                                  subsample=1.0,\n",
       "                                                                  tol=0.0001,\n",
       "                                                                  validation_fraction=0.1,\n",
       "                                                                  verbose=0,\n",
       "                                                                  warm_start=False))],\n",
       "                                verbose=True),\n",
       "             iid='deprecated', n_jobs=-1, param_grid={},\n",
       "             pre_dispatch='2*n_jobs', refit=True, return_train_score=False,\n",
       "             scoring=make_scorer(mean_squared_error, greater_is_better=False, squared=False),\n",
       "             verbose=6)"
      ]
     },
     "execution_count": 20,
     "metadata": {},
     "output_type": "execute_result"
    }
   ],
   "source": [
    "grid_search.fit(features_train, target_train)"
   ]
  },
  {
   "cell_type": "code",
   "execution_count": 21,
   "metadata": {},
   "outputs": [
    {
     "name": "stdout",
     "output_type": "stream",
     "text": [
      "-0.032561213580010996\n"
     ]
    }
   ],
   "source": [
    "print(grid_search.best_score_)"
   ]
  },
  {
   "cell_type": "markdown",
   "metadata": {},
   "source": [
    "## Model per galaxy"
   ]
  },
  {
   "cell_type": "code",
   "execution_count": 22,
   "metadata": {},
   "outputs": [],
   "source": [
    "models = {}"
   ]
  },
  {
   "cell_type": "code",
   "execution_count": 23,
   "metadata": {},
   "outputs": [],
   "source": [
    "for i, galaxy_name in enumerate(raw_data_train['galaxy'].unique()):\n",
    "    galaxy_index = (raw_data_train['galaxy'] == galaxy_name)\n",
    "    galaxy_features = features_train[galaxy_index]\n",
    "    galaxy_target = target_train[galaxy_index]\n",
    "    models[galaxy_name] = GradientBoostingRegressor(n_estimators=100, random_state=RANDOM_STATE).fit(galaxy_features, galaxy_target)"
   ]
  },
  {
   "cell_type": "markdown",
   "metadata": {},
   "source": [
    "# Generate predictions\n"
   ]
  },
  {
   "cell_type": "markdown",
   "metadata": {},
   "source": [
    "## Universal model"
   ]
  },
  {
   "cell_type": "code",
   "execution_count": 24,
   "metadata": {},
   "outputs": [],
   "source": [
    "predictions_train = grid_search.best_estimator_.predict(features_train)"
   ]
  },
  {
   "cell_type": "code",
   "execution_count": 25,
   "metadata": {},
   "outputs": [
    {
     "data": {
      "text/plain": [
       "0.018580009963442536"
      ]
     },
     "execution_count": 25,
     "metadata": {},
     "output_type": "execute_result"
    }
   ],
   "source": [
    "mean_squared_error(target_train, predictions_train, squared=False)"
   ]
  },
  {
   "cell_type": "markdown",
   "metadata": {},
   "source": [
    "First try: 0.13000"
   ]
  },
  {
   "cell_type": "markdown",
   "metadata": {},
   "source": [
    "After pipelining and bow: 0.06440"
   ]
  },
  {
   "cell_type": "markdown",
   "metadata": {},
   "source": [
    "After iterative imputation: 0.01858"
   ]
  },
  {
   "cell_type": "markdown",
   "metadata": {},
   "source": [
    "## Model per galaxy"
   ]
  },
  {
   "cell_type": "code",
   "execution_count": 26,
   "metadata": {},
   "outputs": [],
   "source": [
    "predictions_train = np.empty(features_train.shape[0])"
   ]
  },
  {
   "cell_type": "code",
   "execution_count": 27,
   "metadata": {},
   "outputs": [],
   "source": [
    "for i, galaxy_name in raw_data_train['galaxy'].iteritems():\n",
    "    predictions_train[i] = models[galaxy_name].predict(features_train[i, :].reshape(1, -1))"
   ]
  },
  {
   "cell_type": "code",
   "execution_count": 28,
   "metadata": {},
   "outputs": [
    {
     "data": {
      "text/plain": [
       "0.0003091281607160787"
      ]
     },
     "execution_count": 28,
     "metadata": {},
     "output_type": "execute_result"
    }
   ],
   "source": [
    "mean_squared_error(target_train, predictions_train, squared=False)"
   ]
  },
  {
   "cell_type": "markdown",
   "metadata": {},
   "source": [
    "First try: 0.00590"
   ]
  },
  {
   "cell_type": "markdown",
   "metadata": {},
   "source": [
    "After pipelining and bow: 0.00030"
   ]
  },
  {
   "cell_type": "markdown",
   "metadata": {},
   "source": [
    "After iterative imputation: no significant change"
   ]
  },
  {
   "cell_type": "code",
   "execution_count": 29,
   "metadata": {},
   "outputs": [],
   "source": [
    "predictions_test = np.empty(features_test.shape[0])"
   ]
  },
  {
   "cell_type": "code",
   "execution_count": 30,
   "metadata": {},
   "outputs": [],
   "source": [
    "for i, galaxy_name in raw_data_test['galaxy'].iteritems():\n",
    "    predictions_test[i] = models[galaxy_name].predict(features_test[i, :].reshape(1, -1))"
   ]
  },
  {
   "cell_type": "markdown",
   "metadata": {},
   "source": [
    "# Optimization problem"
   ]
  },
  {
   "cell_type": "code",
   "execution_count": 31,
   "metadata": {},
   "outputs": [],
   "source": [
    "energy_allocations = raw_data_test[['galaxy', 'galactic year','existence expectancy index']]"
   ]
  },
  {
   "cell_type": "markdown",
   "metadata": {},
   "source": [
    "Identify galaxies with top potential for increase in the index"
   ]
  },
  {
   "cell_type": "code",
   "execution_count": 32,
   "metadata": {},
   "outputs": [],
   "source": [
    "index_increase_potential = (-np.log(predictions_test+0.01)+3)**2 / 1000"
   ]
  },
  {
   "cell_type": "code",
   "execution_count": 33,
   "metadata": {},
   "outputs": [
    {
     "data": {
      "text/plain": [
       "(array([  3.,  28.,  56.,  51.,  45.,  79., 148., 284., 177.,  19.]),\n",
       " array([0.01335274, 0.01612547, 0.01889819, 0.02167091, 0.02444364,\n",
       "        0.02721636, 0.02998908, 0.03276181, 0.03553453, 0.03830725,\n",
       "        0.04107998]),\n",
       " <a list of 10 Patch objects>)"
      ]
     },
     "execution_count": 33,
     "metadata": {},
     "output_type": "execute_result"
    },
    {
     "data": {
      "image/png": "[encoded data removed]",
      "text/plain": [
       "<Figure size 432x288 with 1 Axes>"
      ]
     },
     "metadata": {
      "needs_background": "light"
     },
     "output_type": "display_data"
    }
   ],
   "source": [
    "plt.hist(index_increase_potential)"
   ]
  },
  {
   "cell_type": "code",
   "execution_count": 34,
   "metadata": {},
   "outputs": [],
   "source": [
    "top_indices = np.argsort(index_increase_potential)[-500:]"
   ]
  },
  {
   "cell_type": "markdown",
   "metadata": {},
   "source": [
    "Allocate accordingly"
   ]
  },
  {
   "cell_type": "code",
   "execution_count": 35,
   "metadata": {},
   "outputs": [],
   "source": [
    "TOTAL_AVAILABLE_ENERGY = 50000"
   ]
  },
  {
   "cell_type": "code",
   "execution_count": 36,
   "metadata": {
    "collapsed": true,
    "jupyter": {
     "outputs_hidden": true
    }
   },
   "outputs": [
    {
     "name": "stderr",
     "output_type": "stream",
     "text": [
      "/Users/hybris/anaconda3/lib/python3.7/site-packages/ipykernel_launcher.py:1: SettingWithCopyWarning: \n",
      "A value is trying to be set on a copy of a slice from a DataFrame.\n",
      "Try using .loc[row_indexer,col_indexer] = value instead\n",
      "\n",
      "See the caveats in the documentation: https://pandas.pydata.org/pandas-docs/stable/user_guide/indexing.html#returning-a-view-versus-a-copy\n",
      "  \"\"\"Entry point for launching an IPython kernel.\n"
     ]
    }
   ],
   "source": [
    "energy_allocations['share'] = np.zeros(energy_allocations.shape[0])"
   ]
  },
  {
   "cell_type": "code",
   "execution_count": 37,
   "metadata": {
    "collapsed": true,
    "jupyter": {
     "outputs_hidden": true
    }
   },
   "outputs": [
    {
     "name": "stderr",
     "output_type": "stream",
     "text": [
      "/Users/hybris/anaconda3/lib/python3.7/site-packages/pandas/core/indexing.py:966: SettingWithCopyWarning: \n",
      "A value is trying to be set on a copy of a slice from a DataFrame.\n",
      "Try using .loc[row_indexer,col_indexer] = value instead\n",
      "\n",
      "See the caveats in the documentation: https://pandas.pydata.org/pandas-docs/stable/user_guide/indexing.html#returning-a-view-versus-a-copy\n",
      "  self.obj[item] = s\n"
     ]
    }
   ],
   "source": [
    "energy_allocations.loc[top_indices, 'share'] = 100"
   ]
  },
  {
   "cell_type": "code",
   "execution_count": 38,
   "metadata": {},
   "outputs": [
    {
     "data": {
      "text/plain": [
       "100.00    500\n",
       "0.00      390\n",
       "Name: share, dtype: int64"
      ]
     },
     "execution_count": 38,
     "metadata": {},
     "output_type": "execute_result"
    }
   ],
   "source": [
    "energy_allocations['share'].value_counts()"
   ]
  },
  {
   "cell_type": "markdown",
   "metadata": {},
   "source": [
    "**Check allocations for validity**"
   ]
  },
  {
   "cell_type": "code",
   "execution_count": 39,
   "metadata": {},
   "outputs": [
    {
     "data": {
      "text/plain": [
       "False"
      ]
     },
     "execution_count": 39,
     "metadata": {},
     "output_type": "execute_result"
    }
   ],
   "source": [
    "GALAXY_ENERGY_MAX = 100\n",
    "(energy_allocations['share'] > GALAXY_ENERGY_MAX).any()"
   ]
  },
  {
   "cell_type": "code",
   "execution_count": 40,
   "metadata": {},
   "outputs": [
    {
     "data": {
      "text/plain": [
       "False"
      ]
     },
     "execution_count": 40,
     "metadata": {},
     "output_type": "execute_result"
    }
   ],
   "source": [
    "GALAXY_ENERGY_MIN = 0\n",
    "(energy_allocations['share'] < GALAXY_ENERGY_MIN).any()"
   ]
  },
  {
   "cell_type": "code",
   "execution_count": 41,
   "metadata": {},
   "outputs": [
    {
     "data": {
      "text/plain": [
       "False"
      ]
     },
     "execution_count": 41,
     "metadata": {},
     "output_type": "execute_result"
    }
   ],
   "source": [
    "energy_allocations['share'].sum() > TOTAL_AVAILABLE_ENERGY"
   ]
  },
  {
   "cell_type": "code",
   "execution_count": 42,
   "metadata": {},
   "outputs": [
    {
     "data": {
      "text/plain": [
       "False"
      ]
     },
     "execution_count": 42,
     "metadata": {},
     "output_type": "execute_result"
    }
   ],
   "source": [
    "EEI_THRESHOLD = 0.7\n",
    "SUBSIDIZED_ENERGY_SHARE = 0.1\n",
    "\n",
    "subsidized_galaxies = energy_allocations['existence expectancy index'] < EEI_THRESHOLD\n",
    "energy_allocations.loc[subsidized_galaxies, ['share']].sum()['share'] < SUBSIDIZED_ENERGY_SHARE * TOTAL_AVAILABLE_ENERGY"
   ]
  },
  {
   "cell_type": "markdown",
   "metadata": {},
   "source": [
    "# Export predictions"
   ]
  },
  {
   "cell_type": "code",
   "execution_count": 43,
   "metadata": {},
   "outputs": [],
   "source": [
    "submitions_sample = pd.read_csv('../submitions/sample_submit.csv')\n",
    "submitions = submitions_sample.copy(deep=True)\n",
    "\n",
    "submitions['pred'] = predictions_test\n",
    "submitions['opt_pred'] = energy_allocations['share']"
   ]
  },
  {
   "cell_type": "code",
   "execution_count": 44,
   "metadata": {},
   "outputs": [],
   "source": [
    "submitions.to_csv(f'../submitions/submitions {datetime.datetime.now():%Y-%m-%dT%H-%M-%S}.csv', index=False)"
   ]
  }
 ],
 "metadata": {
  "kernelspec": {
   "display_name": "Python 3",
   "language": "python",
   "name": "python3"
  },
  "language_info": {
   "codemirror_mode": {
    "name": "ipython",
    "version": 3
   },
   "file_extension": ".py",
   "mimetype": "text/x-python",
   "name": "python",
   "nbconvert_exporter": "python",
   "pygments_lexer": "ipython3",
   "version": "3.7.7"
  }
 },
 "nbformat": 4,
 "nbformat_minor": 4
}
